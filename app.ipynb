{
 "cells": [
  {
   "cell_type": "markdown",
   "metadata": {},
   "source": [
    "-----------------------------------------------------------Basic Technique------------------------------------------------------"
   ]
  },
  {
   "cell_type": "code",
   "execution_count": 2,
   "metadata": {},
   "outputs": [],
   "source": [
    "import pandas as pd"
   ]
  },
  {
   "cell_type": "code",
   "execution_count": 2,
   "metadata": {},
   "outputs": [],
   "source": [
    "# read data  from CSV file into dataframe\n",
    "df = pd.read_csv(\"loan_approval_dataset.csv\") \n",
    "\n",
    "# if you are facing unicode- decode Error \n",
    "# Question_1 : Why this error...??\n",
    "# Answer_1 : Encoading a formate that convert text to that computer can understand, comman encoding standard utf-8 and latin1, when pandas assume wrong encoding that thrwo errow.\n",
    "# Question_2 : How to fix this..??\n",
    "# Answer_2 : Specify the encoding like this --> df = pd.read_csv(\"loan_approval_dataset.csv\" encoding=\"utf-8\") or df = pd.read_csv(\"loan_approval_dataset.csv\" , encoding=\"latin1\")  "
   ]
  },
  {
   "cell_type": "code",
   "execution_count": 3,
   "metadata": {},
   "outputs": [],
   "source": [
    "# read data from EXCEL file into dataframe\n",
    "\n",
    "# df = pd.read_excel(\"file_name.xlsx\")"
   ]
  },
  {
   "cell_type": "code",
   "execution_count": 4,
   "metadata": {},
   "outputs": [],
   "source": [
    "# read data from JSON file into dataframe\n",
    "\n",
    "# df = pd.read_json(\"file_name.json\")"
   ]
  },
  {
   "cell_type": "code",
   "execution_count": 5,
   "metadata": {},
   "outputs": [
    {
     "name": "stdout",
     "output_type": "stream",
     "text": [
      "      loan_id   no_of_dependents      education  self_employed   income_annum  \\\n",
      "0           1                  2       Graduate             No        9600000   \n",
      "1           2                  0   Not Graduate            Yes        4100000   \n",
      "2           3                  3       Graduate             No        9100000   \n",
      "3           4                  3       Graduate             No        8200000   \n",
      "4           5                  5   Not Graduate            Yes        9800000   \n",
      "...       ...                ...            ...            ...            ...   \n",
      "4264     4265                  5       Graduate            Yes        1000000   \n",
      "4265     4266                  0   Not Graduate            Yes        3300000   \n",
      "4266     4267                  2   Not Graduate             No        6500000   \n",
      "4267     4268                  1   Not Graduate             No        4100000   \n",
      "4268     4269                  1       Graduate             No        9200000   \n",
      "\n",
      "       loan_amount   loan_term   cibil_score   residential_assets_value  \\\n",
      "0         29900000          12           778                    2400000   \n",
      "1         12200000           8           417                    2700000   \n",
      "2         29700000          20           506                    7100000   \n",
      "3         30700000           8           467                   18200000   \n",
      "4         24200000          20           382                   12400000   \n",
      "...            ...         ...           ...                        ...   \n",
      "4264       2300000          12           317                    2800000   \n",
      "4265      11300000          20           559                    4200000   \n",
      "4266      23900000          18           457                    1200000   \n",
      "4267      12800000           8           780                    8200000   \n",
      "4268      29700000          10           607                   17800000   \n",
      "\n",
      "       commercial_assets_value   luxury_assets_value   bank_asset_value  \\\n",
      "0                     17600000              22700000            8000000   \n",
      "1                      2200000               8800000            3300000   \n",
      "2                      4500000              33300000           12800000   \n",
      "3                      3300000              23300000            7900000   \n",
      "4                      8200000              29400000            5000000   \n",
      "...                        ...                   ...                ...   \n",
      "4264                    500000               3300000             800000   \n",
      "4265                   2900000              11000000            1900000   \n",
      "4266                  12400000              18100000            7300000   \n",
      "4267                    700000              14100000            5800000   \n",
      "4268                  11800000              35700000           12000000   \n",
      "\n",
      "      loan_status  \n",
      "0        Approved  \n",
      "1        Rejected  \n",
      "2        Rejected  \n",
      "3        Rejected  \n",
      "4        Rejected  \n",
      "...           ...  \n",
      "4264     Rejected  \n",
      "4265     Approved  \n",
      "4266     Rejected  \n",
      "4267     Approved  \n",
      "4268     Approved  \n",
      "\n",
      "[4269 rows x 13 columns]\n"
     ]
    }
   ],
   "source": [
    "#Have a look of your data set\n",
    "print(df)"
   ]
  },
  {
   "cell_type": "code",
   "execution_count": 6,
   "metadata": {},
   "outputs": [
    {
     "name": "stdout",
     "output_type": "stream",
     "text": [
      "   loan_id   no_of_dependents      education  self_employed   income_annum  \\\n",
      "0        1                  2       Graduate             No        9600000   \n",
      "1        2                  0   Not Graduate            Yes        4100000   \n",
      "2        3                  3       Graduate             No        9100000   \n",
      "3        4                  3       Graduate             No        8200000   \n",
      "\n",
      "    loan_amount   loan_term   cibil_score   residential_assets_value  \\\n",
      "0      29900000          12           778                    2400000   \n",
      "1      12200000           8           417                    2700000   \n",
      "2      29700000          20           506                    7100000   \n",
      "3      30700000           8           467                   18200000   \n",
      "\n",
      "    commercial_assets_value   luxury_assets_value   bank_asset_value  \\\n",
      "0                  17600000              22700000            8000000   \n",
      "1                   2200000               8800000            3300000   \n",
      "2                   4500000              33300000           12800000   \n",
      "3                   3300000              23300000            7900000   \n",
      "\n",
      "   loan_status  \n",
      "0     Approved  \n",
      "1     Rejected  \n",
      "2     Rejected  \n",
      "3     Rejected  \n",
      "      loan_id   no_of_dependents      education  self_employed   income_annum  \\\n",
      "4263     4264                  3       Graduate             No        5000000   \n",
      "4264     4265                  5       Graduate            Yes        1000000   \n",
      "4265     4266                  0   Not Graduate            Yes        3300000   \n",
      "4266     4267                  2   Not Graduate             No        6500000   \n",
      "4267     4268                  1   Not Graduate             No        4100000   \n",
      "4268     4269                  1       Graduate             No        9200000   \n",
      "\n",
      "       loan_amount   loan_term   cibil_score   residential_assets_value  \\\n",
      "4263      12700000          14           865                    4700000   \n",
      "4264       2300000          12           317                    2800000   \n",
      "4265      11300000          20           559                    4200000   \n",
      "4266      23900000          18           457                    1200000   \n",
      "4267      12800000           8           780                    8200000   \n",
      "4268      29700000          10           607                   17800000   \n",
      "\n",
      "       commercial_assets_value   luxury_assets_value   bank_asset_value  \\\n",
      "4263                   8100000              19500000            6300000   \n",
      "4264                    500000               3300000             800000   \n",
      "4265                   2900000              11000000            1900000   \n",
      "4266                  12400000              18100000            7300000   \n",
      "4267                    700000              14100000            5800000   \n",
      "4268                  11800000              35700000           12000000   \n",
      "\n",
      "      loan_status  \n",
      "4263     Approved  \n",
      "4264     Rejected  \n",
      "4265     Approved  \n",
      "4266     Rejected  \n",
      "4267     Approved  \n",
      "4268     Approved  \n"
     ]
    }
   ],
   "source": [
    "# before anaylize the data, get a overviw of data using head(), tail()\n",
    "# head(enter no of data that you want to see) - It show the selected row form head. \n",
    "# tail(enter no od data that you want to see) - It show the selected row from tail.\n",
    "\n",
    "# By default head() and tail() give five rows from head and tail  \n",
    "\n",
    "selected_data_from_head = df.head(4)\n",
    "print(selected_data_from_head)\n",
    "\n",
    "selected_data_from_tail = df.tail(6)\n",
    "print(selected_data_from_tail)\n",
    "\n"
   ]
  },
  {
   "cell_type": "code",
   "execution_count": 7,
   "metadata": {},
   "outputs": [
    {
     "name": "stdout",
     "output_type": "stream",
     "text": [
      "<class 'pandas.core.frame.DataFrame'>\n",
      "RangeIndex: 4269 entries, 0 to 4268\n",
      "Data columns (total 13 columns):\n",
      " #   Column                     Non-Null Count  Dtype \n",
      "---  ------                     --------------  ----- \n",
      " 0   loan_id                    4269 non-null   int64 \n",
      " 1    no_of_dependents          4269 non-null   int64 \n",
      " 2    education                 4269 non-null   object\n",
      " 3    self_employed             4269 non-null   object\n",
      " 4    income_annum              4269 non-null   int64 \n",
      " 5    loan_amount               4269 non-null   int64 \n",
      " 6    loan_term                 4269 non-null   int64 \n",
      " 7    cibil_score               4269 non-null   int64 \n",
      " 8    residential_assets_value  4269 non-null   int64 \n",
      " 9    commercial_assets_value   4269 non-null   int64 \n",
      " 10   luxury_assets_value       4269 non-null   int64 \n",
      " 11   bank_asset_value          4269 non-null   int64 \n",
      " 12   loan_status               4269 non-null   object\n",
      "dtypes: int64(10), object(3)\n",
      "memory usage: 433.7+ KB\n"
     ]
    }
   ],
   "source": [
    "# To summarizing data set we need some basic information about the data \n",
    "  # no of cloumns and rows\n",
    "  # what type of data\n",
    "  # missing data\n",
    "\n",
    "# To knowing basic information of data we use info() method\n",
    "\n",
    "df.info()\n",
    "\n",
    "#It gives you ...\n",
    "  # total no of data\n",
    "  # column name with non null count and data type (int, float, object)\n",
    "  # memory usage of dataframe"
   ]
  },
  {
   "cell_type": "code",
   "execution_count": 8,
   "metadata": {},
   "outputs": [
    {
     "name": "stdout",
     "output_type": "stream",
     "text": [
      "Descriptive Statistics of above Data\n",
      "             age        revenue\n",
      "count   4.000000       4.000000\n",
      "mean   23.250000   38050.000000\n",
      "std     5.377422   42870.463803\n",
      "min    18.000000    2200.000000\n",
      "25%    19.500000   15550.000000\n",
      "50%    22.500000   25000.000000\n",
      "75%    26.250000   47500.000000\n",
      "max    30.000000  100000.000000\n"
     ]
    }
   ],
   "source": [
    "# Summary of Descriptive statistics for numeric dataset\n",
    "# lets understand this on small dataSet\n",
    "\n",
    "data = {\n",
    "  \"name\" : [\"radha\", \"mohan\", \"madhav\",\"madhavi\"],\n",
    "  \"age\" : [18,20,30,25],\n",
    "  \"revenue\" : [30000,20000,2200,100000]\n",
    "}\n",
    "\n",
    "df1 = pd.DataFrame(data) # converting collection of data to dataframe\n",
    "\n",
    "print('Descriptive Statistics of above Data')\n",
    "print(df1.describe())\n",
    "\n",
    "# It show count, mean, std, min, 25%, 50%, 75%, max\n",
    "# what is this mean why we need this..\n",
    "\n",
    "# count - it tail no of non missing value in dataframe\n",
    "# mean - average value of each column \n",
    "# std - standard deviation(std) how much value spread out or diffrent form mean (average)\n",
    "# min - smallest value of column\n",
    "# 25% - lower quater\n",
    "# 50% - 2nd quater of data  \n",
    "# 75% - upper quater\n",
    "\n"
   ]
  },
  {
   "cell_type": "markdown",
   "metadata": {},
   "source": [
    "Before anaylize the DataSet we should know...\n",
    "\n",
    "1- How much big your dataset\n",
    "2- What are the names of columns"
   ]
  },
  {
   "cell_type": "code",
   "execution_count": 9,
   "metadata": {},
   "outputs": [
    {
     "name": "stdout",
     "output_type": "stream",
     "text": [
      "shape : (4269, 13)\n",
      " columns name : Index(['loan_id', ' no_of_dependents', ' education', ' self_employed',\n",
      "       ' income_annum', ' loan_amount', ' loan_term', ' cibil_score',\n",
      "       ' residential_assets_value', ' commercial_assets_value',\n",
      "       ' luxury_assets_value', ' bank_asset_value', ' loan_status'],\n",
      "      dtype='object')\n"
     ]
    }
   ],
   "source": [
    "# using shape and columns we see shape(row, column) of data and column name\n",
    "\n",
    "shape_data = df.shape # Its tuple not method\n",
    "print(f\"shape : {shape_data}\") # f is formate , way of embed expressions {} inside the string\n",
    "\n",
    "column_name = df.columns  # Its tuple not method\n",
    "print(f\" columns name : {column_name}\")"
   ]
  },
  {
   "cell_type": "markdown",
   "metadata": {},
   "source": [
    "Let's learn How to...\n",
    "\n",
    "1- Select specfic column \n",
    "2- filter the rows based on certain condition \n",
    "\n",
    "Selecting columns..\n",
    " 1- A series\n",
    " 2- Dataframe multiple columns of data\n",
    "\n",
    "Filtering row...\n",
    "boolean indexing (when condition is true it show else not)"
   ]
  },
  {
   "cell_type": "code",
   "execution_count": 10,
   "metadata": {},
   "outputs": [
    {
     "name": "stdout",
     "output_type": "stream",
     "text": [
      "      loan_id   no_of_dependents      education  self_employed   income_annum  \\\n",
      "0           1                  2       Graduate             No        9600000   \n",
      "1           2                  0   Not Graduate            Yes        4100000   \n",
      "2           3                  3       Graduate             No        9100000   \n",
      "3           4                  3       Graduate             No        8200000   \n",
      "4           5                  5   Not Graduate            Yes        9800000   \n",
      "...       ...                ...            ...            ...            ...   \n",
      "4264     4265                  5       Graduate            Yes        1000000   \n",
      "4265     4266                  0   Not Graduate            Yes        3300000   \n",
      "4266     4267                  2   Not Graduate             No        6500000   \n",
      "4267     4268                  1   Not Graduate             No        4100000   \n",
      "4268     4269                  1       Graduate             No        9200000   \n",
      "\n",
      "       loan_amount   loan_term   cibil_score   residential_assets_value  \\\n",
      "0         29900000          12           778                    2400000   \n",
      "1         12200000           8           417                    2700000   \n",
      "2         29700000          20           506                    7100000   \n",
      "3         30700000           8           467                   18200000   \n",
      "4         24200000          20           382                   12400000   \n",
      "...            ...         ...           ...                        ...   \n",
      "4264       2300000          12           317                    2800000   \n",
      "4265      11300000          20           559                    4200000   \n",
      "4266      23900000          18           457                    1200000   \n",
      "4267      12800000           8           780                    8200000   \n",
      "4268      29700000          10           607                   17800000   \n",
      "\n",
      "       commercial_assets_value   luxury_assets_value   bank_asset_value  \\\n",
      "0                     17600000              22700000            8000000   \n",
      "1                      2200000               8800000            3300000   \n",
      "2                      4500000              33300000           12800000   \n",
      "3                      3300000              23300000            7900000   \n",
      "4                      8200000              29400000            5000000   \n",
      "...                        ...                   ...                ...   \n",
      "4264                    500000               3300000             800000   \n",
      "4265                   2900000              11000000            1900000   \n",
      "4266                  12400000              18100000            7300000   \n",
      "4267                    700000              14100000            5800000   \n",
      "4268                  11800000              35700000           12000000   \n",
      "\n",
      "      loan_status  \n",
      "0        Approved  \n",
      "1        Rejected  \n",
      "2        Rejected  \n",
      "3        Rejected  \n",
      "4        Rejected  \n",
      "...           ...  \n",
      "4264     Rejected  \n",
      "4265     Approved  \n",
      "4266     Rejected  \n",
      "4267     Approved  \n",
      "4268     Approved  \n",
      "\n",
      "[4269 rows x 13 columns]\n"
     ]
    }
   ],
   "source": [
    "print(df)"
   ]
  },
  {
   "cell_type": "code",
   "execution_count": 16,
   "metadata": {},
   "outputs": [
    {
     "name": "stdout",
     "output_type": "stream",
     "text": [
      "0       778\n",
      "1       417\n",
      "2       506\n",
      "3       467\n",
      "4       382\n",
      "       ... \n",
      "4264    317\n",
      "4265    559\n",
      "4266    457\n",
      "4267    780\n",
      "4268    607\n",
      "Name: cibil_score, Length: 4269, dtype: int64\n",
      "      loan_amount  cibil_score\n",
      "0        29900000          778\n",
      "1        12200000          417\n",
      "2        29700000          506\n",
      "3        30700000          467\n",
      "4        24200000          382\n",
      "...           ...          ...\n",
      "4264      2300000          317\n",
      "4265     11300000          559\n",
      "4266     23900000          457\n",
      "4267     12800000          780\n",
      "4268     29700000          607\n",
      "\n",
      "[4269 rows x 2 columns]\n"
     ]
    }
   ],
   "source": [
    "# Access a single column (series)\n",
    "\n",
    "# Strip whitespace from column names\n",
    "df.columns = df.columns.str.strip()\n",
    "\n",
    "#column = df[\"column_name\"]\n",
    "column = df['cibil_score']\n",
    "print(column)\n",
    "\n",
    "# Access a single multiple column (Dataframe)\n",
    "\n",
    "#subset = df['column1', 'column2', 'column-n']\n",
    "subset = df[['loan_amount', 'cibil_score']]\n",
    "print(subset)\n"
   ]
  },
  {
   "cell_type": "code",
   "execution_count": null,
   "metadata": {},
   "outputs": [],
   "source": [
    "#Filtering a row...\n",
    "\n",
    "#based on single condition\n",
    "\n",
    "filter_row = df[df[\"income_annum\"] > 9600000]\n",
    "print(filter_row)"
   ]
  },
  {
   "cell_type": "code",
   "execution_count": null,
   "metadata": {},
   "outputs": [],
   "source": [
    "#Filtering a row...\n",
    "\n",
    "#based on multiple condition\n",
    "\n",
    "filter_row = df[(df[\"income_annum\"] > 9600000) & (df[\"income_annum\"] < 9800000)]\n",
    "print(filter_row)"
   ]
  },
  {
   "cell_type": "markdown",
   "metadata": {},
   "source": [
    "-------------------------------------------------------------Advance Technique----------------------------------------------------------"
   ]
  },
  {
   "cell_type": "code",
   "execution_count": 50,
   "metadata": {},
   "outputs": [
    {
     "name": "stdout",
     "output_type": "stream",
     "text": [
      "      name  age     revenue  total-in  total-income  Extra-income\n",
      "0    radha   18   34728.750     31000     35728.750          1000\n",
      "1    mohan   20   55000.000     57000     57000.000          2000\n",
      "2   madhav   30    2546.775      5200      5546.775          3000\n",
      "3  madhavi   25  115762.500    104000    119762.500          4000\n"
     ]
    }
   ],
   "source": [
    "# How to add new column in dataset\n",
    "\n",
    "#dataset_name[new_column_name] = [values]\n",
    "df1[\"Extra-income\"] = [1000, 2000, 3000, 4000]\n",
    "\n",
    "# adding column using insert() method\n",
    "# df.insert(loc, \"column_name\", values)\n",
    "\n",
    "df1.insert(4, \"total-income\", df1[\"revenue\"] + df1[\"Extra-income\"])\n",
    "print(df1)\n",
    "\n",
    "\n"
   ]
  },
  {
   "cell_type": "code",
   "execution_count": 49,
   "metadata": {},
   "outputs": [
    {
     "name": "stdout",
     "output_type": "stream",
     "text": [
      "      name  age     revenue  total-in  Extra-income\n",
      "0    radha   18   34728.750     31000          1000\n",
      "1    mohan   20   55000.000     57000          2000\n",
      "2   madhav   30    2546.775      5200          3000\n",
      "3  madhavi   25  115762.500    104000          4000\n"
     ]
    }
   ],
   "source": [
    "# How to update the values into dataframe\n",
    "# loc[] with the help of loc method we can access any cell into dataframe.\n",
    "\n",
    "#df.loc[row-index, \"column_name\"] = new value\n",
    "\n",
    "df1.loc[1, 'revenue'] = 55000\n",
    "\n",
    "print(df1)"
   ]
  },
  {
   "cell_type": "code",
   "execution_count": 47,
   "metadata": {},
   "outputs": [
    {
     "name": "stdout",
     "output_type": "stream",
     "text": [
      "      name  age     revenue  total-income  total-in  Extra-income\n",
      "0    radha   18   34728.750         31000     31000          1000\n",
      "1    mohan   20   63669.375         22000     57000          2000\n",
      "2   madhav   30    2546.775          5200      5200          3000\n",
      "3  madhavi   25  115762.500        104000    104000          4000\n"
     ]
    }
   ],
   "source": [
    "# increasing salary by 5%\n",
    "\n",
    "df1[\"revenue\"] = df1[\"revenue\"] * 1.05  # (100% + 5% = 105% or 1.05)\n",
    "print(df1)"
   ]
  },
  {
   "cell_type": "code",
   "execution_count": null,
   "metadata": {},
   "outputs": [],
   "source": [
    "# How to remove column -- using drop method\n",
    "\n",
    "if \"total-income\" in df1.columns:\n",
    "\tdf1.drop(columns=[\"total-income\"], inplace=True) # inplace=True - It modifies original dataframe\n",
    "print(df1)\n",
    "\n",
    "\n",
    "# How to remove multiple columns -- using drop method\n",
    "df1.drop(columns=[\"revenue\", \"Extra-income\"], inplace=True)\n",
    "\n",
    "print(df1)"
   ]
  },
  {
   "cell_type": "code",
   "execution_count": 3,
   "metadata": {},
   "outputs": [
    {
     "name": "stdout",
     "output_type": "stream",
     "text": [
      "    name    age  revenue\n",
      "0  False  False    False\n",
      "1   True  False     True\n",
      "2  False   True    False\n",
      "3  False  False    False\n",
      "name       1\n",
      "age        1\n",
      "revenue    1\n",
      "dtype: int64\n"
     ]
    }
   ],
   "source": [
    "# How to handle missing Data\n",
    "# 1- NaN(Not a Number)\n",
    "# 2- None(for object data types)\n",
    "\n",
    "# isnull()\n",
    "# True - NaN is missing\n",
    "# False - value is present \n",
    "\n",
    "data2 = {\n",
    "  \"name\" : [\"radha\", None , \"madhav\",\"madhavi\"],\n",
    "  \"age\" : [18,20,None,25],\n",
    "  \"revenue\" : [30000,None,2200,100000]\n",
    "}\n",
    "\n",
    "df2 = pd.DataFrame(data2) # converting collection of data to dataframe\n",
    "\n",
    "print(df2.isnull())\n",
    "\n",
    "print(df2.isnull().sum()) # not null value in each column"
   ]
  },
  {
   "cell_type": "code",
   "execution_count": null,
   "metadata": {},
   "outputs": [
    {
     "name": "stdout",
     "output_type": "stream",
     "text": [
      "      name   age   revenue\n",
      "0    radha  18.0   30000.0\n",
      "3  madhavi  25.0  100000.0\n"
     ]
    }
   ],
   "source": [
    "# How to drop missing value..\n",
    "\n",
    "# using dropna()\n",
    "# axis = 0 , mean remove row\n",
    "# axis = 1 , mean remove column\n",
    "df2.dropna(axis = 0, inplace=True)\n",
    "print(df2)"
   ]
  },
  {
   "cell_type": "code",
   "execution_count": null,
   "metadata": {},
   "outputs": [],
   "source": [
    "\n",
    "# How to fill null value..\n",
    "\n",
    "# using fillna()\n",
    "\n",
    "\n",
    "data2 = {\n",
    "  \"name\" : [\"radha\", None , \"madhav\",\"madhavi\"],\n",
    "  \"age\" : [18,20,None,25],\n",
    "  \"revenue\" : [30000,None,2200,100000]\n",
    "}\n",
    "\n",
    "df2 = pd.DataFrame(data2) \n",
    "\n",
    "df2.fillna(0.0, inplace=True)\n",
    "print(df2)\n"
   ]
  },
  {
   "cell_type": "code",
   "execution_count": null,
   "metadata": {},
   "outputs": [
    {
     "name": "stdout",
     "output_type": "stream",
     "text": [
      "      name   age   revenue\n",
      "0    radha  18.0   30000.0\n",
      "1     None  20.0       NaN\n",
      "2   madhav  21.0    2200.0\n",
      "3  madhavi  25.0  100000.0\n"
     ]
    },
    {
     "name": "stderr",
     "output_type": "stream",
     "text": [
      "C:\\Users\\ALAKA\\AppData\\Local\\Temp\\ipykernel_14920\\2365988756.py:10: FutureWarning: A value is trying to be set on a copy of a DataFrame or Series through chained assignment using an inplace method.\n",
      "The behavior will change in pandas 3.0. This inplace method will never work because the intermediate object on which we are setting values always behaves as a copy.\n",
      "\n",
      "For example, when doing 'df[col].method(value, inplace=True)', try using 'df.method({col: value}, inplace=True)' or df[col] = df[col].method(value) instead, to perform the operation inplace on the original object.\n",
      "\n",
      "\n",
      "  df3['age'].fillna(df3['age'].mean(), inplace=True)\n"
     ]
    }
   ],
   "source": [
    "data2 = {\n",
    "  \"name\" : [\"radha\", None , \"madhav\",\"madhavi\"],\n",
    "  \"age\" : [18,20,None,25],\n",
    "  \"revenue\" : [30000,None,2200,100000]\n",
    "}\n",
    "\n",
    "df3 = pd.DataFrame(data2) \n",
    "\n",
    "# fill mean value..\n",
    "df3['age'].fillna(df3['age'].mean(), inplace=True) # similarly we can do it with all numerical column\n",
    "print(df3)"
   ]
  },
  {
   "cell_type": "code",
   "execution_count": 18,
   "metadata": {},
   "outputs": [
    {
     "name": "stdout",
     "output_type": "stream",
     "text": [
      "      name   age   revenue\n",
      "0    radha  18.0   30000.0\n",
      "1     None  20.0   16100.0\n",
      "2   madhav  22.5    2200.0\n",
      "3  madhavi  25.0  100000.0\n"
     ]
    },
    {
     "name": "stderr",
     "output_type": "stream",
     "text": [
      "C:\\Users\\ALAKA\\AppData\\Local\\Temp\\ipykernel_14920\\1722245881.py:17: FutureWarning: DataFrame.interpolate with object dtype is deprecated and will raise in a future version. Call obj.infer_objects(copy=False) before interpolating instead.\n",
      "  df4.interpolate(method=\"linear\", axis=0, inplace= True)\n"
     ]
    }
   ],
   "source": [
    "# Estimated filling value...\n",
    "# called Interpolation - calculate missing value based on uper and lower value\n",
    "\n",
    "# Why - preserve data itegrity , smooth trends , avoid data loss\n",
    "\n",
    "# method - interpolate()\n",
    "\n",
    "data2 = {\n",
    "  \"name\" : [\"radha\", None , \"madhav\",\"madhavi\"],\n",
    "  \"age\" : [18,20,None,25],\n",
    "  \"revenue\" : [30000,None,2200,100000]\n",
    "}\n",
    "\n",
    "df4 = pd.DataFrame(data2) \n",
    "\n",
    "# type of - linear, polynomial, time ..\n",
    "df4.interpolate(method=\"linear\", axis=0, inplace= True)\n",
    "print(df4)\n"
   ]
  }
 ],
 "metadata": {
  "kernelspec": {
   "display_name": "Python 3",
   "language": "python",
   "name": "python3"
  },
  "language_info": {
   "codemirror_mode": {
    "name": "ipython",
    "version": 3
   },
   "file_extension": ".py",
   "mimetype": "text/x-python",
   "name": "python",
   "nbconvert_exporter": "python",
   "pygments_lexer": "ipython3",
   "version": "3.12.4"
  }
 },
 "nbformat": 4,
 "nbformat_minor": 2
}
